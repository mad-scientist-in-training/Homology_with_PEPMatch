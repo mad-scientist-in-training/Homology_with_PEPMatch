{
 "cells": [
  {
   "cell_type": "markdown",
   "metadata": {},
   "source": [
    "This notebook documents the code used to analyze EBV and CMV immunodominant proteins against a list of MS-associated proteins. \n",
    "Note that requirements for PEPMatch are listed on the original GitHub repository found here: https://github.com/IEDB/PEPMatch and will not be discussed here. \n",
    "\n",
    "The code has 3 parts: preprocessing of the master list of peptides used as the reference (in this case, the list of MS-associated proteins), the assessing the overlap of actual matches between protein of interest (say, EBNA1) and Master List of proteins, and running the shuffled version of the same protein (EBNA1) against the Master List of proteins as the control."
   ]
  },
  {
   "cell_type": "markdown",
   "metadata": {},
   "source": [
    "Packages to download and import "
   ]
  },
  {
   "cell_type": "code",
   "execution_count": null,
   "metadata": {},
   "outputs": [],
   "source": [
    "pip install pepmatch"
   ]
  },
  {
   "cell_type": "code",
   "execution_count": null,
   "metadata": {},
   "outputs": [],
   "source": [
    "import pandas as pd\n",
    "import random\n",
    "from collections import Counter\n",
    "import matplotlib.pyplot as plt\n",
    "import seaborn as sns\n",
    "from pepmatch import Matcher\n",
    "from pepmatch import preprocessor"
   ]
  },
  {
   "cell_type": "markdown",
   "metadata": {},
   "source": [
    "1. Proprocessing the Master List of proteins used as the reference (in this case, the list of MS-associated proteins)\n",
    "Note: the list of MS-associated proteins was determined from an IEDB query, using UNIPROT to compile the actual list of sequences as one large fasta file."
   ]
  },
  {
   "cell_type": "code",
   "execution_count": null,
   "metadata": {},
   "outputs": [],
   "source": [
    "from pepmatch import Preprocessor\n",
    "preprocessor = Preprocessor('X.fasta', split = 2, preprocess_format = 'pickle') \n",
    "preprocessor.preprocess()\n",
    "#output is Master_List to be used in the following analyses"
   ]
  },
  {
   "cell_type": "markdown",
   "metadata": {},
   "source": [
    "2. Assessing the overlap between protein of interest and MS-associated protein list\n",
    "NOTE: for the 9mers, the max_mismatches parameter is set to 2 for the max amount of physiologically relevant mismatching for MHC I peptides that still allows for cross-presentation, and the split is equal to 2 to find the maximum number of hits out of the analysis."
   ]
  },
  {
   "cell_type": "code",
   "execution_count": null,
   "metadata": {},
   "outputs": [],
   "source": [
    "#input amino acid sequence of protein of interest\n",
    "NAX_string = ''\n",
    "k = 9\n",
    "#split the protein into 9mer peptides overlapping by 1 amino acid to compile list of all peptides derived from protein of interest\n",
    "NAX_9mer = [NAX_string[idx:idx + k] for idx in range(len(NAX_string) - k + 1)]\n",
    "#run the matching\n",
    "matcher_NAX = Matcher(NAX_9mer, 'Master_List', max_mismatches=2, split = 2)\n",
    "results_NAX = matcher_NAX.match()\n",
    "#convert the matching results to a dataframe using pandas\n",
    "results_NAX = pd.DataFrame(results_NAX)\n",
    "#drop the duplicate matches \n",
    "results_NAX_ = results_NAX.drop_duplicates(subset = 0)\n",
    "total_NAX = len(results_NAX_)\n",
    "#count the number of hits\n",
    "conserved_NAX = len(results_NAX_[results_NAX_[3].astype(str) == 'Homo sapiens'].count(axis=1))\n",
    "print(total_NAX)\n",
    "print(conserved_NAX)\n",
    "#output: the total number of possible hits (total_NAX) and the number of actual overlapping hits determined by PEPMatch (conserved_NAX)"
   ]
  },
  {
   "cell_type": "markdown",
   "metadata": {},
   "source": [
    "3. Performing the same analysis as in (2) but running the shuffled version of the same protein for use in statistical analysis.\n",
    "NOTE: in this code block, I created a loop to run a different shuffle version of the protein 30 times over, and then I averaged the output to use in the statistical analysis. "
   ]
  },
  {
   "cell_type": "code",
   "execution_count": null,
   "metadata": {},
   "outputs": [],
   "source": [
    "#run the random function\n",
    "def my_func():\n",
    "    NAX_string = ''\n",
    "    #create a shuffled version of the above protein\n",
    "    random_NAX_string = ''.join(random.sample(NAX_string, len(NAX_string)))\n",
    "    k = 9\n",
    "    NAX_9mer_random = [random_NAX_string[idx:idx + k] for idx in range(len(random_NAX_string) - k + 1)]\n",
    "    matcher_NA = Matcher(NAX_9mer_random, 'Master_List', max_mismatches = 2, split = 2)\n",
    "    results_random_NA = matcher_NA.match()\n",
    "    results_random_df_NA = pd.DataFrame(results_random_NA)\n",
    "    results_NA_ = results_random_df_NA.drop_duplicates(subset = 0)\n",
    "    conserved = len(results_NA_[results_NA_[3].astype(str) == 'Homo sapiens'].count(axis=1))\n",
    "    print(conserved)\n",
    "for i in range(30):\n",
    "    print(my_func())"
   ]
  }
 ],
 "metadata": {
  "interpreter": {
   "hash": "f72737d0159719d9a1069461dbcecb71cb14d3c0a59eda36a34f28bfc655a608"
  },
  "kernelspec": {
   "display_name": "Python 3.9.7 64-bit ('ipykernel_py3': conda)",
   "language": "python",
   "name": "python3"
  },
  "language_info": {
   "name": "python",
   "version": "3.9.7"
  },
  "orig_nbformat": 4
 },
 "nbformat": 4,
 "nbformat_minor": 2
}
